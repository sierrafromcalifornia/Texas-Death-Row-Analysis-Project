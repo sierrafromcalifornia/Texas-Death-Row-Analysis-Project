{
 "cells": [
  {
   "cell_type": "markdown",
   "metadata": {},
   "source": [
    "## Build Web Scraper: Texas Execution Data"
   ]
  },
  {
   "cell_type": "markdown",
   "metadata": {},
   "source": [
    "I'll run through the Homeroom lesson on the topic, add more resources as needed from around the web, and assess whether I'll create a scraper myself or use one from the web (completely or to a degree)."
   ]
  },
  {
   "cell_type": "markdown",
   "metadata": {},
   "source": [
    "### Lesson in use:"
   ]
  },
  {
   "cell_type": "markdown",
   "metadata": {},
   "source": [
    "Resources around web (not assessed yet):\n",
    "1. Texas Tribune data extraction link https://github.com/texastribune/faces-of-death-row, associated Google Sheet https://docs.google.com/spreadsheets/d/1pBt4RC1143DRGwZBiuS9FNNsX4GKW6pAMA-mFzHQig4/pubhtml#\n",
    "2. Sebastien's scraper looks super helpful, just a different URL/Structure (https://gist.github.com/sebastien/30c72380728ae3829190)\n",
    "3. Helpful article: https://www.scrapingbee.com/blog/python-web-scraping-beautiful-soup/"
   ]
  },
  {
   "cell_type": "code",
   "execution_count": 1,
   "metadata": {},
   "outputs": [],
   "source": [
    "# Webscraping\n",
    "import requests\n",
    "from bs4 import BeautifulSoup\n",
    "\n",
    "# Data organization\n",
    "import pandas as pd\n",
    "\n",
    "# Visualization\n",
    "import matplotlib.pyplot as plt\n",
    "plt.rcParams.update({'font.size': 22})"
   ]
  },
  {
   "cell_type": "code",
   "execution_count": 2,
   "metadata": {},
   "outputs": [
    {
     "data": {
      "text/plain": [
       "<Response [200]>"
      ]
     },
     "execution_count": 2,
     "metadata": {},
     "output_type": "execute_result"
    }
   ],
   "source": [
    "# use requests to connect to TX site\n",
    "\n",
    "url = 'https://www.tdcj.texas.gov/death_row/dr_executed_offenders.html'\n",
    "txresponse = requests.get(url)\n",
    "txresponse"
   ]
  },
  {
   "cell_type": "code",
   "execution_count": 3,
   "metadata": {},
   "outputs": [
    {
     "data": {
      "text/plain": [
       "'<!doctype html>\\r\\n<html lang=\"en-US\"><!-- InstanceB'"
      ]
     },
     "execution_count": 3,
     "metadata": {},
     "output_type": "execute_result"
    }
   ],
   "source": [
    "# txresponse\n",
    "\n",
    "txhtml = txresponse.text\n",
    "txhtml[:50]"
   ]
  },
  {
   "cell_type": "code",
   "execution_count": 14,
   "metadata": {},
   "outputs": [],
   "source": [
    "txsoup = BeautifulSoup(txhtml, 'lxml')\n",
    "#txsoup"
   ]
  },
  {
   "cell_type": "code",
   "execution_count": 5,
   "metadata": {},
   "outputs": [
    {
     "data": {
      "text/plain": [
       "573"
      ]
     },
     "execution_count": 5,
     "metadata": {},
     "output_type": "execute_result"
    }
   ],
   "source": [
    "tx_divs = txsoup.find_all('tr')\n",
    "len(tx_divs)"
   ]
  },
  {
   "cell_type": "code",
   "execution_count": 6,
   "metadata": {},
   "outputs": [
    {
     "data": {
      "text/plain": [
       "<tr>\n",
       "<td style=\"text-align: center\">568</td>\n",
       "<td style=\"text-align: center\"><a href=\"dr_info/gardnerjohn.html\" title=\"Inmate Information for John Gardner\">Inmate Information</a></td>\n",
       "<td style=\"text-align: center\"><a href=\"dr_info/gardnerjohnlast.html\" title=\"Last Statement of John Gardner\">Last Statement</a></td>\n",
       "<td style=\"text-align: center\">Gardner</td>\n",
       "<td style=\"text-align: center\">John</td>\n",
       "<td style=\"text-align: center\">999516</td>\n",
       "<td style=\"text-align: center\">64</td>\n",
       "<td style=\"text-align: center\">1/15/2020</td>\n",
       "<td style=\"text-align: center\">White</td>\n",
       "<td style=\"text-align: center\"> Collin</td>\n",
       "</tr>"
      ]
     },
     "execution_count": 6,
     "metadata": {},
     "output_type": "execute_result"
    }
   ],
   "source": [
    "# preview list of our HTML elements\n",
    "tx_divs[5]"
   ]
  },
  {
   "cell_type": "code",
   "execution_count": 7,
   "metadata": {},
   "outputs": [
    {
     "data": {
      "text/plain": [
       "<tr>\n",
       "<th scope=\"col\" style=\"text-align: center\">Execution</th>\n",
       "<th scope=\"col\" style=\"text-align: center; width: 16%\">Link</th>\n",
       "<th scope=\"col\" style=\"text-align: center; width: 13%\">Link</th>\n",
       "<th scope=\"col\" style=\"text-align: center\">Last Name</th>\n",
       "<th scope=\"col\" style=\"text-align: center\">First Name</th>\n",
       "<th scope=\"col\" style=\"text-align: center; width: 7%\">TDCJ<br/>Number</th>\n",
       "<th scope=\"col\" style=\"text-align: center\">Age</th>\n",
       "<th scope=\"col\" style=\"text-align: center\">Date</th>\n",
       "<th scope=\"col\" style=\"text-align: center\">Race</th>\n",
       "<th scope=\"col\" style=\"text-align: center\">County</th>\n",
       "</tr>"
      ]
     },
     "execution_count": 7,
     "metadata": {},
     "output_type": "execute_result"
    }
   ],
   "source": [
    "first_tablerow = tx_divs[0]\n",
    "first_tablerow"
   ]
  },
  {
   "cell_type": "code",
   "execution_count": 8,
   "metadata": {},
   "outputs": [
    {
     "data": {
      "text/plain": [
       "<th scope=\"col\" style=\"text-align: center\">Execution</th>"
      ]
     },
     "execution_count": 8,
     "metadata": {},
     "output_type": "execute_result"
    }
   ],
   "source": [
    "# aim to grab the datapoint(s) from row of data\n",
    "\n",
    "txtext = first_tablerow.find()\n",
    "#txtext = txtest.\n",
    "txtext"
   ]
  },
  {
   "cell_type": "code",
   "execution_count": 9,
   "metadata": {},
   "outputs": [
    {
     "name": "stdout",
     "output_type": "stream",
     "text": [
      "Execution\n"
     ]
    }
   ],
   "source": [
    "first_el = txtext.text\n",
    "print(first_el)"
   ]
  },
  {
   "cell_type": "code",
   "execution_count": 10,
   "metadata": {},
   "outputs": [
    {
     "data": {
      "text/plain": [
       "[<th scope=\"col\" style=\"text-align: center\">Execution</th>,\n",
       " <th scope=\"col\" style=\"text-align: center; width: 16%\">Link</th>,\n",
       " <th scope=\"col\" style=\"text-align: center; width: 13%\">Link</th>,\n",
       " <th scope=\"col\" style=\"text-align: center\">Last Name</th>,\n",
       " <th scope=\"col\" style=\"text-align: center\">First Name</th>,\n",
       " <th scope=\"col\" style=\"text-align: center; width: 7%\">TDCJ<br/>Number</th>,\n",
       " <br/>,\n",
       " <th scope=\"col\" style=\"text-align: center\">Age</th>,\n",
       " <th scope=\"col\" style=\"text-align: center\">Date</th>,\n",
       " <th scope=\"col\" style=\"text-align: center\">Race</th>,\n",
       " <th scope=\"col\" style=\"text-align: center\">County</th>]"
      ]
     },
     "execution_count": 10,
     "metadata": {},
     "output_type": "execute_result"
    }
   ],
   "source": [
    "# aim to grab the datapoint(s) from row of data\n",
    "\n",
    "txtext_two = first_tablerow.find_all()\n",
    "#txtext = txtest.\n",
    "txtext_two"
   ]
  }
 ],
 "metadata": {
  "kernelspec": {
   "display_name": "Python 3",
   "language": "python",
   "name": "python3"
  },
  "language_info": {
   "codemirror_mode": {
    "name": "ipython",
    "version": 3
   },
   "file_extension": ".py",
   "mimetype": "text/x-python",
   "name": "python",
   "nbconvert_exporter": "python",
   "pygments_lexer": "ipython3",
   "version": "3.6.12"
  }
 },
 "nbformat": 4,
 "nbformat_minor": 4
}
